{
 "cells": [
  {
   "cell_type": "markdown",
   "metadata": {},
   "source": [
    "# Getting started with the Keras sequential model"
   ]
  },
  {
   "cell_type": "code",
   "execution_count": 7,
   "metadata": {},
   "outputs": [
    {
     "name": "stdout",
     "output_type": "stream",
     "text": [
      "1.14.0\n"
     ]
    }
   ],
   "source": [
    "# TensorFlow and tf.keras\n",
    "import tensorflow as tf\n",
    "from tensorflow import keras\n",
    "from tensorflow.keras.layers import Conv2D, MaxPooling2D, Dropout, Flatten, Dense\n",
    "\n",
    "# Commonly used modules\n",
    "import numpy as np\n",
    "import os\n",
    "import sys\n",
    "import random\n",
    "\n",
    "# Images, plots, display, and visualization\n",
    "import matplotlib.pyplot as plt\n",
    "import pandas as pd\n",
    "import seaborn as sns\n",
    "import cv2\n",
    "import IPython\n",
    "from six.moves import urllib\n",
    "\n",
    "print(tf.__version__)"
   ]
  },
  {
   "cell_type": "code",
   "execution_count": 8,
   "metadata": {},
   "outputs": [],
   "source": [
    "# Set common constants\n",
    "this_repo_url = 'https://github.com/CLynie/Lynie_tensorflow-tutorial/blob/master/'\n",
    "this_tutorial_url = this_repo_url + 'Classification_of_MNIST '"
   ]
  },
  {
   "cell_type": "markdown",
   "metadata": {},
   "source": [
    "The MNIST dataset containss 70,000 grayscale images of handwritten digits at a resolution of 28 by 28 pixels. The task is to take one of these images as input and predict the most likely digit contained in the image (along with a relative confidence in this prediction):\n",
    "\n",
    "<img src=\"https://i.imgur.com/ITrm9x4.png\" width=\"500px\">\n",
    "\n",
    "\n",
    "Now, we load the dataset. The images are 28x28 NumPy arrays, with pixel values ranging between 0 and 255. The *labels* are an array of integers, ranging from 0 to 9."
   ]
  },
  {
   "cell_type": "code",
   "execution_count": 9,
   "metadata": {},
   "outputs": [],
   "source": [
    "(train_images, train_labels), (test_images, test_labels) = keras.datasets.mnist.load_data()\n",
    "\n",
    "# reshape images to specify that it's a single channel\n",
    "train_images = train_images.reshape(train_images.shape[0], 28, 28, 1)\n",
    "test_images = test_images.reshape(test_images.shape[0], 28, 28, 1)"
   ]
  },
  {
   "cell_type": "markdown",
   "metadata": {},
   "source": [
    "We <b> scale these values </b> to a range of <b> 0 to 1 </b> before feeding to the neural network model. For this, we divide the values by 255. It's important that the **_training set_** and the **_testing set_** are preprocessed in the same way:"
   ]
  },
  {
   "cell_type": "code",
   "execution_count": 10,
   "metadata": {},
   "outputs": [
    {
     "name": "stdout",
     "output_type": "stream",
     "text": [
      "(60000, 28, 28, 1)\n"
     ]
    }
   ],
   "source": [
    "def preprocess_images(imgs): # should work for both a single image and multiple images\n",
    "    sample_img = imgs if len(imgs.shape) == 2 else imgs[0]\n",
    "    assert sample_img.shape in [(28, 28, 1), (28, 28)], sample_img.shape # make sure images are 28x28 and single-channel (grayscale)\n",
    "    return imgs / 255.0\n",
    "\n",
    "train_images = preprocess_images(train_images)\n",
    "print(np.shape(train_images))\n",
    "test_images = preprocess_images(test_images)"
   ]
  },
  {
   "cell_type": "code",
   "execution_count": 11,
   "metadata": {},
   "outputs": [
    {
     "data": {
      "image/png": "[encoded data removed]",
      "text/plain": [
       "<Figure size 720x144 with 5 Axes>"
      ]
     },
     "metadata": {},
     "output_type": "display_data"
    }
   ],
   "source": [
    "plt.figure(figsize=(10,2))\n",
    "for i in range(5):\n",
    "    plt.subplot(1,5,i+1)\n",
    "    plt.xticks([])\n",
    "    plt.yticks([])\n",
    "    plt.grid(False)\n",
    "    rd = random.randrange(train_images.shape[0]-5)\n",
    "    plt.imshow(train_images[i+rd].reshape(28, 28), cmap=plt.cm.binary)\n",
    "    plt.xlabel(train_labels[i+rd])"
   ]
  },
  {
   "cell_type": "markdown",
   "metadata": {},
   "source": [
    "### Build the model\n",
    "\n",
    "Building the neural network requires configuring the layers of the model, then compiling the model. In many cases, this can be reduced to simply __stacking together layers__ :\n",
    "\n",
    "### Train the model\n",
    "\n",
    "Training the neural network model requires the following steps:\n",
    "\n",
    "1. Feed the training data to the model—in this example, the `train_images` and `train_labels` arrays.\n",
    "2. The model learns to associate images and labels.\n",
    "3. We ask the model to make predictions about a test set—in this example, the `test_images` array. We verify that the predictions match the labels from the `test_labels` array. \n",
    "\n",
    "To start training,  call the `model.fit` method—the model is \"fit\" to the training data:\n",
    "\n",
    "\n",
    "###\n"
   ]
  },
  {
   "cell_type": "markdown",
   "metadata": {},
   "source": [
    "\n",
    "### The character of activation:\n",
    "1. Nonlinear\n",
    "2. Range\n",
    "3. Continuously differentiable\n",
    "4. Monotonic\n",
    "5. Smooth functions with a monotonic derivative\n",
    "6. Approximates identity near the origin\n",
    "\n",
    "\n",
    "### Test every activate function\n",
    "Most of the tutorials try the tf.nn.relu for mnist. But why?\n",
    "Here I present every activation, here comes the results:"
   ]
  },
  {
   "cell_type": "code",
   "execution_count": 6,
   "metadata": {},
   "outputs": [
    {
     "name": "stdout",
     "output_type": "stream",
     "text": [
      "WARNING:tensorflow:From /usr/local/lib/python3.6/site-packages/tensorflow/python/ops/resource_variable_ops.py:435: colocate_with (from tensorflow.python.framework.ops) is deprecated and will be removed in a future version.\n",
      "Instructions for updating:\n",
      "Colocations handled automatically by placer.\n",
      "WARNING:tensorflow:From /usr/local/lib/python3.6/site-packages/tensorflow/python/keras/layers/core.py:143: calling dropout (from tensorflow.python.ops.nn_ops) with keep_prob is deprecated and will be removed in a future version.\n",
      "Instructions for updating:\n",
      "Please use `rate` instead of `keep_prob`. Rate should be set to `rate = 1 - keep_prob`.\n",
      "Epoch 1/5\n",
      "60000/60000 [==============================] - 70s 1ms/sample - loss: 0.1890 - acc: 0.9437\n",
      "Epoch 2/5\n",
      "60000/60000 [==============================] - 70s 1ms/sample - loss: 0.0814 - acc: 0.9762\n",
      "Epoch 3/5\n",
      "60000/60000 [==============================] - 70s 1ms/sample - loss: 0.0613 - acc: 0.9810\n",
      "Epoch 4/5\n",
      "60000/60000 [==============================] - 70s 1ms/sample - loss: 0.0509 - acc: 0.9840\n",
      "Epoch 5/5\n",
      "60000/60000 [==============================] - 70s 1ms/sample - loss: 0.0436 - acc: 0.9868\n",
      "(10000, 28, 28, 1)\n",
      "10000/10000 [==============================] - 3s 260us/sample - loss: 0.0268 - acc: 0.9921\n",
      "relu's Test accuracy: 0.9921\n",
      "Epoch 1/5\n",
      "60000/60000 [==============================] - 71s 1ms/sample - loss: 0.1965 - acc: 0.9395\n",
      "Epoch 2/5\n",
      "60000/60000 [==============================] - 71s 1ms/sample - loss: 0.1175 - acc: 0.9639\n",
      "Epoch 3/5\n",
      "60000/60000 [==============================] - 71s 1ms/sample - loss: 0.1035 - acc: 0.9674\n",
      "Epoch 4/5\n",
      "60000/60000 [==============================] - 71s 1ms/sample - loss: 0.1001 - acc: 0.9692\n",
      "Epoch 5/5\n",
      "60000/60000 [==============================] - 71s 1ms/sample - loss: 0.0930 - acc: 0.9704\n",
      "(10000, 28, 28, 1)\n",
      "10000/10000 [==============================] - 3s 284us/sample - loss: 0.0569 - acc: 0.9811\n",
      "tanh's Test accuracy: 0.9811\n",
      "Epoch 1/5\n",
      "60000/60000 [==============================] - 72s 1ms/sample - loss: 2.3741 - acc: 0.1019\n",
      "Epoch 2/5\n",
      "60000/60000 [==============================] - 70s 1ms/sample - loss: 2.3106 - acc: 0.1029\n",
      "Epoch 3/5\n",
      "60000/60000 [==============================] - 70s 1ms/sample - loss: 2.3100 - acc: 0.1022\n",
      "Epoch 4/5\n",
      "60000/60000 [==============================] - 70s 1ms/sample - loss: 2.3087 - acc: 0.1033\n",
      "Epoch 5/5\n",
      "60000/60000 [==============================] - 70s 1ms/sample - loss: 2.3096 - acc: 0.1015\n",
      "(10000, 28, 28, 1)\n",
      "10000/10000 [==============================] - 3s 283us/sample - loss: 2.3031 - acc: 0.0974\n",
      "sigmoid's Test accuracy: 0.0974\n",
      "Epoch 1/5\n",
      "60000/60000 [==============================] - 88s 1ms/sample - loss: 0.2263 - acc: 0.9318\n",
      "Epoch 2/5\n",
      "60000/60000 [==============================] - 88s 1ms/sample - loss: 0.1297 - acc: 0.9615\n",
      "Epoch 3/5\n",
      "60000/60000 [==============================] - 88s 1ms/sample - loss: 0.1069 - acc: 0.9680\n",
      "Epoch 4/5\n",
      "60000/60000 [==============================] - 88s 1ms/sample - loss: 0.0971 - acc: 0.9708\n",
      "Epoch 5/5\n",
      "60000/60000 [==============================] - 88s 1ms/sample - loss: 0.0872 - acc: 0.9738\n",
      "(10000, 28, 28, 1)\n",
      "10000/10000 [==============================] - 4s 399us/sample - loss: 0.0590 - acc: 0.9817\n",
      "selu's Test accuracy: 0.9817\n",
      "WARNING:tensorflow:From /usr/local/lib/python3.6/site-packages/tensorflow/python/ops/math_ops.py:3066: to_int32 (from tensorflow.python.ops.math_ops) is deprecated and will be removed in a future version.\n",
      "Instructions for updating:\n",
      "Use tf.cast instead.\n",
      "WARNING:tensorflow:From /usr/local/lib/python3.6/site-packages/tensorflow/python/ops/math_grad.py:102: div (from tensorflow.python.ops.math_ops) is deprecated and will be removed in a future version.\n",
      "Instructions for updating:\n",
      "Deprecated in favor of operator or tf.math.divide.\n",
      "Epoch 1/5\n",
      "60000/60000 [==============================] - 103s 2ms/sample - loss: 1.9715 - acc: 0.2631\n",
      "Epoch 2/5\n",
      "60000/60000 [==============================] - 101s 2ms/sample - loss: 1.5575 - acc: 0.3935\n",
      "Epoch 3/5\n",
      "60000/60000 [==============================] - 100s 2ms/sample - loss: 1.4422 - acc: 0.4320\n",
      "Epoch 4/5\n",
      "60000/60000 [==============================] - 116s 2ms/sample - loss: 1.2835 - acc: 0.5021\n",
      "Epoch 5/5\n",
      "60000/60000 [==============================] - 160s 3ms/sample - loss: 1.1762 - acc: 0.5490\n",
      "(10000, 28, 28, 1)\n",
      "10000/10000 [==============================] - 4s 386us/sample - loss: 0.5169 - acc: 0.8819\n",
      "softmax's Test accuracy: 0.8819\n",
      "Epoch 1/5\n",
      "60000/60000 [==============================] - 74s 1ms/sample - loss: 1.1067 - acc: 0.6217\n",
      "Epoch 2/5\n",
      "60000/60000 [==============================] - 73s 1ms/sample - loss: 0.3878 - acc: 0.8802\n",
      "Epoch 3/5\n",
      "60000/60000 [==============================] - 74s 1ms/sample - loss: 0.2332 - acc: 0.9307\n",
      "Epoch 4/5\n",
      "60000/60000 [==============================] - 73s 1ms/sample - loss: 0.1774 - acc: 0.9473\n",
      "Epoch 5/5\n",
      "60000/60000 [==============================] - 73s 1ms/sample - loss: 0.1424 - acc: 0.9568\n",
      "(10000, 28, 28, 1)\n",
      "10000/10000 [==============================] - 4s 359us/sample - loss: 0.0589 - acc: 0.9825\n",
      "softplus's Test accuracy: 0.9825\n",
      "Epoch 1/5\n",
      "60000/60000 [==============================] - 74s 1ms/sample - loss: 0.2138 - acc: 0.9351\n",
      "Epoch 2/5\n",
      "60000/60000 [==============================] - 74s 1ms/sample - loss: 0.1148 - acc: 0.9653\n",
      "Epoch 3/5\n",
      "60000/60000 [==============================] - 75s 1ms/sample - loss: 0.0978 - acc: 0.9699\n",
      "Epoch 4/5\n",
      "60000/60000 [==============================] - 75s 1ms/sample - loss: 0.0877 - acc: 0.9727\n",
      "Epoch 5/5\n",
      "60000/60000 [==============================] - 71s 1ms/sample - loss: 0.0802 - acc: 0.9742\n",
      "(10000, 28, 28, 1)\n",
      "10000/10000 [==============================] - 3s 266us/sample - loss: 0.0515 - acc: 0.9826\n",
      "softsign's Test accuracy: 0.9826\n",
      "Epoch 1/5\n",
      "60000/60000 [==============================] - 77s 1ms/sample - loss: 2.3716 - acc: 0.1006\n",
      "Epoch 2/5\n",
      "60000/60000 [==============================] - 77s 1ms/sample - loss: 2.3102 - acc: 0.1019\n",
      "Epoch 3/5\n",
      "60000/60000 [==============================] - 77s 1ms/sample - loss: 2.3088 - acc: 0.1036\n",
      "Epoch 4/5\n",
      "60000/60000 [==============================] - 77s 1ms/sample - loss: 2.3095 - acc: 0.1020\n",
      "Epoch 5/5\n",
      "60000/60000 [==============================] - 78s 1ms/sample - loss: 2.3088 - acc: 0.1031\n",
      "(10000, 28, 28, 1)\n",
      "10000/10000 [==============================] - 3s 312us/sample - loss: 2.3030 - acc: 0.1135\n",
      "hard_sigmoid's Test accuracy: 0.1135\n",
      "Epoch 1/5\n",
      "60000/60000 [==============================] - 73s 1ms/sample - loss: nan - acc: 0.0988\n",
      "Epoch 2/5\n",
      "60000/60000 [==============================] - 73s 1ms/sample - loss: nan - acc: 0.0987\n",
      "Epoch 3/5\n",
      "60000/60000 [==============================] - 73s 1ms/sample - loss: nan - acc: 0.0987\n",
      "Epoch 4/5\n",
      "60000/60000 [==============================] - 73s 1ms/sample - loss: nan - acc: 0.0987\n",
      "Epoch 5/5\n",
      "60000/60000 [==============================] - 73s 1ms/sample - loss: nan - acc: 0.0987\n",
      "(10000, 28, 28, 1)\n",
      "10000/10000 [==============================] - 3s 304us/sample - loss: nan - acc: 0.0980\n",
      "exponential's Test accuracy: 0.098\n",
      "Epoch 1/5\n",
      "60000/60000 [==============================] - 70s 1ms/sample - loss: 0.2078 - acc: 0.9373\n",
      "Epoch 2/5\n",
      "60000/60000 [==============================] - 69s 1ms/sample - loss: 0.1253 - acc: 0.9617\n",
      "Epoch 3/5\n",
      "60000/60000 [==============================] - 70s 1ms/sample - loss: 0.1112 - acc: 0.9667\n",
      "Epoch 4/5\n",
      "60000/60000 [==============================] - 70s 1ms/sample - loss: 0.1030 - acc: 0.9686\n",
      "Epoch 5/5\n",
      "60000/60000 [==============================] - 70s 1ms/sample - loss: 0.0959 - acc: 0.9702\n",
      "(10000, 28, 28, 1)\n",
      "10000/10000 [==============================] - 3s 292us/sample - loss: 0.0772 - acc: 0.9771\n",
      "linear's Test accuracy: 0.9771\n"
     ]
    }
   ],
   "source": [
    "epochs = 5\n",
    "\n",
    "for active in ['relu','tanh','sigmoid','selu','softmax','softplus','softsign','hard_sigmoid','exponential','linear']:\n",
    "    model = keras.Sequential()\n",
    "    # 32 convolution filters used each of size 3x3\n",
    "    model.add(Conv2D(32, kernel_size=(3, 3), activation=active, input_shape=(28, 28, 1)))\n",
    "    # 64 convolution filters used each of size 3x3\n",
    "    model.add(Conv2D(64, (3, 3), activation=active))\n",
    "    # choose the best features via pooling\n",
    "    model.add(MaxPooling2D(pool_size=(2, 2)))\n",
    "    # randomly turn neurons on and off to improve convergence\n",
    "    model.add(Dropout(0.25))\n",
    "    # flatten since too many dimensions, we only want a classification output\n",
    "    model.add(Flatten())\n",
    "    # fully connected to get all relevant data\n",
    "    model.add(Dense(128, activation=active))\n",
    "    # one more dropout\n",
    "    model.add(Dropout(0.5))\n",
    "    # output a softmax to squash the matrix into output probabilities\n",
    "    model.add(Dense(10, activation='softmax'))\n",
    "    model.compile(optimizer=tf.train.AdamOptimizer(), \n",
    "              loss='sparse_categorical_crossentropy',\n",
    "              metrics=['accuracy'])\n",
    "\n",
    "    history = model.fit(train_images, train_labels, epochs=epochs)\n",
    "    print(test_images.shape)\n",
    "    test_loss, test_acc = model.evaluate(test_images, test_labels)\n",
    "\n",
    "    print(active + '\\'s Test accuracy:', test_acc)"
   ]
  },
  {
   "cell_type": "markdown",
   "metadata": {},
   "source": [
    "### Test accuracy\n",
    "\n",
    "It said too much good things can be harmful:\n",
    "The choise of activation is fundamental:\n",
    "\n",
    "    relu's           Test accuracy: 0.992\n",
    "    softsign's       Test accuracy: 0.9833\n",
    "    selu's           Test accuracy: 0.9828\n",
    "    tanh's           Test accuracy: 0.9805\n",
    "    softplus's       Test accuracy: 0.9804\n",
    "    linear's         Test accuracy: 0.9775\n",
    "    softmax's        Test accuracy: 0.9656\n",
    "    sigmoid's        Test accuracy: 0.101\n",
    "    hard_sigmoid's   Test accuracy: 0.101\n",
    "    exponential's    Test accuracy: 0.098\n",
    "\n",
    "The accuracy can be little difference\n",
    "Here comes the question:\n",
    "1. The combination of activation can be better?\n",
    "2. Why relu, why not the other function:\n",
    "\n",
    "To test the 1st question, here we try:"
   ]
  },
  {
   "cell_type": "code",
   "execution_count": 7,
   "metadata": {
    "scrolled": true
   },
   "outputs": [
    {
     "name": "stdout",
     "output_type": "stream",
     "text": [
      "Epoch 1/5\n",
      "60000/60000 [==============================] - 71s 1ms/sample - loss: 0.1611 - acc: 0.9517\n",
      "Epoch 2/5\n",
      "60000/60000 [==============================] - 71s 1ms/sample - loss: 0.0831 - acc: 0.9749\n",
      "Epoch 3/5\n",
      "60000/60000 [==============================] - 71s 1ms/sample - loss: 0.0667 - acc: 0.9793\n",
      "Epoch 4/5\n",
      "60000/60000 [==============================] - 71s 1ms/sample - loss: 0.0568 - acc: 0.9829\n",
      "Epoch 5/5\n",
      "60000/60000 [==============================] - 72s 1ms/sample - loss: 0.0464 - acc: 0.9853\n",
      "(10000, 28, 28, 1)\n",
      "10000/10000 [==============================] - 3s 296us/sample - loss: 0.0483 - acc: 0.9846\n",
      "linear's Test accuracy: 0.9846\n"
     ]
    }
   ],
   "source": [
    "epochs = 5\n",
    "model = keras.Sequential()\n",
    "# 32 convolution filters used each of size 3x3\n",
    "model.add(Conv2D(32, kernel_size=(3, 3), activation='relu', input_shape=(28, 28, 1)))\n",
    "# 64 convolution filters used each of size 3x3\n",
    "model.add(Conv2D(64, (3, 3), activation='softsign'))\n",
    "# choose the best features via pooling\n",
    "model.add(MaxPooling2D(pool_size=(2, 2)))\n",
    "# randomly turn neurons on and off to improve convergence\n",
    "model.add(Dropout(0.25))\n",
    "# flatten since too many dimensions, we only want a classification output\n",
    "model.add(Flatten())\n",
    "# fully connected to get all relevant data\n",
    "model.add(Dense(128, activation='selu'))\n",
    "# one more dropout\n",
    "model.add(Dropout(0.5))\n",
    "# output a softmax to squash the matrix into output probabilities\n",
    "model.add(Dense(10, activation='softmax'))\n",
    "\n",
    "model.compile(optimizer=tf.train.AdamOptimizer(), \n",
    "          loss='sparse_categorical_crossentropy',\n",
    "          metrics=['accuracy'])\n",
    "\n",
    "history = model.fit(train_images, train_labels, epochs=epochs)\n",
    "print(test_images.shape)\n",
    "test_loss, test_acc = model.evaluate(test_images, test_labels)\n",
    "\n",
    "print(active + '\\'s Test accuracy:', test_acc)"
   ]
  },
  {
   "cell_type": "markdown",
   "metadata": {},
   "source": [
    "It is too good thing make it worse."
   ]
  },
  {
   "cell_type": "markdown",
   "metadata": {},
   "source": [
    "### How to choose activation function:\n",
    "\n",
    "In activation function,I choose: \n",
    "\n",
    "    the sigmoid function when I'm dealing with probabilities; \n",
    "    the ReLU when I'm dealing with positive values;\n",
    "    the linear function when I'm dealing with general values ;\n",
    "\n",
    "In hidden layers, the choice for them in the hidden layer is mostly due to trial and error:\n",
    "\n",
    "    sigmoid;\n",
    "    the leaky ReLU to avoid dead neurons instead of the ReLU; \n",
    "    the tanh instead of the sigmoid;\n",
    "    ELU (exponential linear units)\n",
    "    SELU (self-normalising version of ELU):Under some mild assumptions, SELU self-normalisation\n",
    "    \n",
    "[quote from ai.stackexchange](https://ai.stackexchange.com/questions/7088/how-to-choose-an-activation-function)\n",
    "Or please see the [YouTube](https://www.youtube.com/watch?v=k678CW_LFwk)\n",
    "\n",
    "ReLu:\n",
    "\n",
    "    The advantage:\n",
    "    \n",
    "        Basically, “I want to see only what I am looking for”\n",
    "        By zeroing “less relevant” signals, it can be recognized as “less relevant” or “more relevant”. \n",
    "        \n",
    "    Situations:\n",
    "        A rule of thumb is to use them after convolutional layers, \n",
    "        but sometimes they can be used after dense layers if you want more sparse activations.\n",
    "        \n",
    "Softmax:\n",
    "\n",
    "    The advantage:\n",
    "        Also known as “give-me-the-probability-distribution” function.\n",
    "        Possibly helping to reduce the noise in following layers\n",
    "        \n",
    "    Situation:\n",
    "         Using softmax as a gate.\n",
    "\n",
    "Tanh\n",
    "\n",
    "    The advantage:\n",
    "        The sign of the output is relevant, but the magnitude can mess with the further computations.\n",
    "        An elegant way to “squish” the output into [−1,1] range. \n",
    "        Preserving the sign and conforming to the boundary conditions\n",
    "        \n",
    "    Situations:\n",
    "         It’s useful when after the magnitude of unprocessed output grows significantly, \n",
    "         the further growth is not that important, and vice versa; \n",
    "         when the fluctuations around zero make significant difference.\n",
    "         \n",
    "Rule of thumb (with the usual caveats on rules of thumb) from ![Karpathy et al in CS231.](./img/quora_1.png)"
   ]
  },
  {
   "cell_type": "markdown",
   "metadata": {},
   "source": [
    "### Here we show you the experts version said by [tensorflow](https://www.tensorflow.org/overview/)\n",
    "The Subclassing API provides a define-by-run interface for advanced research. \n",
    "Create a class for your model, then write the forward pass imperatively. \n",
    "Easily author custom layers, activations, and training loops. \n",
    "Run the “Hello World” example below, then visit the tutorials to learn more."
   ]
  },
  {
   "cell_type": "code",
   "execution_count": 35,
   "metadata": {},
   "outputs": [],
   "source": [
    "mnist = tf.keras.datasets.mnist\n",
    "\n",
    "(x_train, y_train), (x_test, y_test) = mnist.load_data()\n",
    "x_train, x_test = x_train / 255.0, x_test / 255.0\n",
    "\n",
    "# Add a channels dimension\n",
    "x_train = x_train[..., tf.newaxis]\n",
    "x_test = x_test[..., tf.newaxis]"
   ]
  },
  {
   "cell_type": "code",
   "execution_count": 36,
   "metadata": {},
   "outputs": [],
   "source": [
    "train_ds = tf.data.Dataset.from_tensor_slices(\n",
    "    (x_train, y_train)).shuffle(10000).batch(32)\n",
    "test_ds = tf.data.Dataset.from_tensor_slices((x_test, y_test)).batch(32)"
   ]
  },
  {
   "cell_type": "code",
   "execution_count": 37,
   "metadata": {},
   "outputs": [],
   "source": [
    "class MyModel(tf.keras.Model):\n",
    "  def __init__(self):\n",
    "    super(MyModel, self).__init__()\n",
    "    self.conv1 = Conv2D(32, 3, activation='relu')\n",
    "    self.flatten = Flatten()\n",
    "    self.d1 = Dense(128, activation='relu')\n",
    "    self.d2 = Dense(10, activation='softmax')\n",
    "\n",
    "  def call(self, x):\n",
    "    x = self.conv1(x)\n",
    "    x = self.flatten(x)\n",
    "    x = self.d1(x)\n",
    "    return self.d2(x)\n",
    "model = MyModel()\n",
    "\n",
    "loss_object = tf.keras.losses.SparseCategoricalCrossentropy()\n",
    "\n",
    "optimizer = tf.keras.optimizers.Adam()"
   ]
  },
  {
   "cell_type": "code",
   "execution_count": 38,
   "metadata": {},
   "outputs": [],
   "source": [
    "train_loss = tf.keras.metrics.Mean(name='train_loss')\n",
    "train_accuracy = tf.keras.metrics.SparseCategoricalAccuracy(name='train_accuracy')\n",
    "\n",
    "test_loss = tf.keras.metrics.Mean(name='test_loss')\n",
    "test_accuracy = tf.keras.metrics.SparseCategoricalAccuracy(name='test_accuracy')"
   ]
  },
  {
   "cell_type": "code",
   "execution_count": 39,
   "metadata": {},
   "outputs": [],
   "source": [
    "@tf.function\n",
    "def train_step(images, labels):\n",
    "  with tf.GradientTape() as tape:\n",
    "    predictions = model(images)\n",
    "    loss = loss_object(labels, predictions)\n",
    "  gradients = tape.gradient(loss, model.trainable_variables)\n",
    "  optimizer.apply_gradients(zip(gradients, model.trainable_variables))\n",
    "\n",
    "  train_loss(loss)\n",
    "  train_accuracy(labels, predictions)"
   ]
  },
  {
   "cell_type": "code",
   "execution_count": 40,
   "metadata": {},
   "outputs": [],
   "source": [
    "@tf.function\n",
    "def test_step(images, labels):\n",
    "  predictions = model(images)\n",
    "  t_loss = loss_object(labels, predictions)\n",
    "\n",
    "  test_loss(t_loss)\n",
    "  test_accuracy(labels, predictions)"
   ]
  },
  {
   "cell_type": "code",
   "execution_count": null,
   "metadata": {},
   "outputs": [],
   "source": [
    "EPOCHS = 5\n",
    "\n",
    "for epoch in range(EPOCHS):\n",
    "  for images, labels in train_ds:\n",
    "    train_step(images, labels)\n",
    "\n",
    "  for test_images, test_labels in test_ds:\n",
    "    test_step(test_images, test_labels)\n",
    "\n",
    "  template = 'Epoch {}, Loss: {}, Accuracy: {}, Test Loss: {}, Test Accuracy: {}'\n",
    "  print (template.format(epoch+1,\n",
    "                         train_loss.result(),\n",
    "                         train_accuracy.result()*100,\n",
    "                         test_loss.result(),\n",
    "                         test_accuracy.result()*100))"
   ]
  },
  {
   "cell_type": "code",
   "execution_count": null,
   "metadata": {},
   "outputs": [],
   "source": []
  },
  {
   "cell_type": "code",
   "execution_count": null,
   "metadata": {},
   "outputs": [],
   "source": []
  }
 ],
 "metadata": {
  "kernelspec": {
   "display_name": "Python 3",
   "language": "python",
   "name": "python3"
  },
  "language_info": {
   "codemirror_mode": {
    "name": "ipython",
    "version": 3
   },
   "file_extension": ".py",
   "mimetype": "text/x-python",
   "name": "python",
   "nbconvert_exporter": "python",
   "pygments_lexer": "ipython3",
   "version": "3.7.3"
  }
 },
 "nbformat": 4,
 "nbformat_minor": 2
}
