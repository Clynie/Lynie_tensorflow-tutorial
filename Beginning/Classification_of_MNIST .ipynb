{
 "cells": [
  {
   "cell_type": "markdown",
   "metadata": {},
   "source": [
    "# Getting started with the Keras sequential model"
   ]
  },
  {
   "cell_type": "code",
   "execution_count": 2,
   "metadata": {},
   "outputs": [
    {
     "name": "stdout",
     "output_type": "stream",
     "text": [
      "1.14.0\n"
     ]
    }
   ],
   "source": [
    "# TensorFlow and tf.keras\n",
    "import tensorflow as tf\n",
    "from tensorflow import keras\n",
    "from tensorflow.keras.layers import Conv2D, MaxPooling2D, Dropout, Flatten, Dense\n",
    "\n",
    "# Commonly used modules\n",
    "import numpy as np\n",
    "import os\n",
    "import sys\n",
    "import random\n",
    "\n",
    "# Images, plots, display, and visualization\n",
    "import matplotlib.pyplot as plt\n",
    "import pandas as pd\n",
    "import seaborn as sns\n",
    "import cv2\n",
    "import IPython\n",
    "from six.moves import urllib\n",
    "\n",
    "print(tf.__version__)"
   ]
  },
  {
   "cell_type": "code",
   "execution_count": 2,
   "metadata": {},
   "outputs": [],
   "source": [
    "# Set common constants\n",
    "this_repo_url = 'https://github.com/CLynie/Lynie_tensorflow-tutorial/blob/master/'\n",
    "this_tutorial_url = this_repo_url + 'Classification_of_MNIST '"
   ]
  },
  {
   "cell_type": "markdown",
   "metadata": {},
   "source": [
    "The MNIST dataset containss 70,000 grayscale images of handwritten digits at a resolution of 28 by 28 pixels. The task is to take one of these images as input and predict the most likely digit contained in the image (along with a relative confidence in this prediction):\n",
    "\n",
    "![prediction](\"https://i.imgur.com/ITrm9x4.png\")\n",
    "\n",
    "\n",
    "Now, we load the dataset. The images are 28x28 NumPy arrays, with pixel values ranging between 0 and 255. The *labels* are an array of integers, ranging from 0 to 9."
   ]
  },
  {
   "cell_type": "code",
   "execution_count": 3,
   "metadata": {},
   "outputs": [],
   "source": [
    "(train_images, train_labels), (test_images, test_labels) = keras.datasets.mnist.load_data()\n",
    "\n",
    "# reshape images to specify that it's a single channel\n",
    "train_images = train_images.reshape(train_images.shape[0], 28, 28, 1)\n",
    "test_images = test_images.reshape(test_images.shape[0], 28, 28, 1)"
   ]
  },
  {
   "cell_type": "markdown",
   "metadata": {},
   "source": [
    "We <b> scale these values </b> to a range of <b> 0 to 1 </b> before feeding to the neural network model. For this, we divide the values by 255. It's important that the **_training set_** and the **_testing set_** are preprocessed in the same way:"
   ]
  },
  {
   "cell_type": "code",
   "execution_count": 4,
   "metadata": {},
   "outputs": [
    {
     "name": "stdout",
     "output_type": "stream",
     "text": [
      "(60000, 28, 28, 1)\n"
     ]
    }
   ],
   "source": [
    "def preprocess_images(imgs): # should work for both a single image and multiple images\n",
    "    sample_img = imgs if len(imgs.shape) == 2 else imgs[0]\n",
    "    assert sample_img.shape in [(28, 28, 1), (28, 28)], sample_img.shape # make sure images are 28x28 and single-channel (grayscale)\n",
    "    return imgs / 255.0\n",
    "\n",
    "train_images = preprocess_images(train_images)\n",
    "print(np.shape(train_images))\n",
    "test_images = preprocess_images(test_images)"
   ]
  },
  {
   "cell_type": "code",
   "execution_count": 5,
   "metadata": {},
   "outputs": [
    {
     "data": {
      "image/png": "[encoded data removed]",
      "text/plain": [
       "<Figure size 720x144 with 5 Axes>"
      ]
     },
     "metadata": {},
     "output_type": "display_data"
    }
   ],
   "source": [
    "plt.figure(figsize=(10,2))\n",
    "for i in range(5):\n",
    "    plt.subplot(1,5,i+1)\n",
    "    plt.xticks([])\n",
    "    plt.yticks([])\n",
    "    plt.grid(False)\n",
    "    rd = random.randrange(train_images.shape[0]-5)\n",
    "    plt.imshow(train_images[i+rd].reshape(28, 28), cmap=plt.cm.binary)\n",
    "    plt.xlabel(train_labels[i+rd])"
   ]
  },
  {
   "cell_type": "markdown",
   "metadata": {},
   "source": [
    "### Build the model\n",
    "\n",
    "Building the neural network requires configuring the layers of the model, then compiling the model. In many cases, this can be reduced to simply __stacking together layers__ :\n",
    "\n",
    "### Train the model\n",
    "\n",
    "Training the neural network model requires the following steps:\n",
    "\n",
    "1. Feed the training data to the model—in this example, the `train_images` and `train_labels` arrays.\n",
    "2. The model learns to associate images and labels.\n",
    "3. We ask the model to make predictions about a test set—in this example, the `test_images` array. We verify that the predictions match the labels from the `test_labels` array. \n",
    "\n",
    "To start training,  call the `model.fit` method—the model is \"fit\" to the training data:\n",
    "\n",
    "\n",
    "###\n"
   ]
  },
  {
   "cell_type": "markdown",
   "metadata": {},
   "source": [
    "\n",
    "### The character of activation:\n",
    "1. Nonlinear\n",
    "2. Range\n",
    "3. Continuously differentiable\n",
    "4. Monotonic\n",
    "5. Smooth functions with a monotonic derivative\n",
    "6. Approximates identity near the origin\n",
    "\n",
    "\n",
    "### Test every activate function\n",
    "Most of the tutorials try the tf.nn.relu for mnist. But why?\n",
    "Here I present every activation, here comes the results:"
   ]
  },
  {
   "cell_type": "code",
   "execution_count": 6,
   "metadata": {},
   "outputs": [
    {
     "name": "stderr",
     "output_type": "stream",
     "text": [
      "WARNING: Logging before flag parsing goes to stderr.\n",
      "W0703 17:34:35.112411 140685230528256 deprecation.py:323] From /usr/local/lib/python3.6/site-packages/tensorflow/python/ops/math_grad.py:1250: add_dispatch_support.<locals>.wrapper (from tensorflow.python.ops.array_ops) is deprecated and will be removed in a future version.\n",
      "Instructions for updating:\n",
      "Use tf.where in 2.0, which has the same broadcast rule as np.where\n"
     ]
    },
    {
     "name": "stdout",
     "output_type": "stream",
     "text": [
      "Train on 60000 samples\n",
      "Epoch 1/5\n",
      "60000/60000 [==============================] - 48s 807us/sample - loss: 0.1974 - accuracy: 0.9409\n",
      "Epoch 2/5\n",
      "60000/60000 [==============================] - 47s 790us/sample - loss: 0.0815 - accuracy: 0.9756\n",
      "Epoch 3/5\n",
      "60000/60000 [==============================] - 48s 808us/sample - loss: 0.0620 - accuracy: 0.9814\n",
      "Epoch 4/5\n",
      "60000/60000 [==============================] - 48s 803us/sample - loss: 0.0492 - accuracy: 0.9852\n",
      "Epoch 5/5\n",
      "60000/60000 [==============================] - 50s 830us/sample - loss: 0.0427 - accuracy: 0.9867\n",
      "(10000, 28, 28, 1)\n",
      "10000/10000 [==============================] - 2s 168us/sample - loss: 0.0306 - accuracy: 0.9902\n",
      "relu's Test accuracy: 0.9902\n",
      "Train on 60000 samples\n",
      "Epoch 1/5\n",
      "60000/60000 [==============================] - 51s 855us/sample - loss: 0.2159 - accuracy: 0.9338\n",
      "Epoch 2/5\n",
      "60000/60000 [==============================] - 52s 867us/sample - loss: 0.1199 - accuracy: 0.9639\n",
      "Epoch 3/5\n",
      "60000/60000 [==============================] - 52s 867us/sample - loss: 0.1073 - accuracy: 0.9665\n",
      "Epoch 4/5\n",
      "60000/60000 [==============================] - 51s 857us/sample - loss: 0.0998 - accuracy: 0.9681\n",
      "Epoch 5/5\n",
      "60000/60000 [==============================] - 50s 834us/sample - loss: 0.0964 - accuracy: 0.9697\n",
      "(10000, 28, 28, 1)\n",
      "10000/10000 [==============================] - 2s 170us/sample - loss: 0.0581 - accuracy: 0.9814\n",
      "tanh's Test accuracy: 0.9814\n",
      "Train on 60000 samples\n",
      "Epoch 1/5\n",
      "60000/60000 [==============================] - 49s 821us/sample - loss: 2.3665 - accuracy: 0.1024\n",
      "Epoch 2/5\n",
      "60000/60000 [==============================] - 50s 835us/sample - loss: 2.3087 - accuracy: 0.1032\n",
      "Epoch 3/5\n",
      "60000/60000 [==============================] - 51s 857us/sample - loss: 2.3081 - accuracy: 0.1055\n",
      "Epoch 4/5\n",
      "60000/60000 [==============================] - 50s 831us/sample - loss: 2.3090 - accuracy: 0.1023\n",
      "Epoch 5/5\n",
      "60000/60000 [==============================] - 49s 821us/sample - loss: 2.3078 - accuracy: 0.1064\n",
      "(10000, 28, 28, 1)\n",
      "10000/10000 [==============================] - 2s 194us/sample - loss: 2.3046 - accuracy: 0.1010\n",
      "sigmoid's Test accuracy: 0.101\n",
      "Train on 60000 samples\n",
      "Epoch 1/5\n",
      "60000/60000 [==============================] - 66s 1ms/sample - loss: 0.2270 - accuracy: 0.9322\n",
      "Epoch 2/5\n",
      "60000/60000 [==============================] - 65s 1ms/sample - loss: 0.1283 - accuracy: 0.9614\n",
      "Epoch 3/5\n",
      "60000/60000 [==============================] - 65s 1ms/sample - loss: 0.1075 - accuracy: 0.9684\n",
      "Epoch 4/5\n",
      "60000/60000 [==============================] - 65s 1ms/sample - loss: 0.0918 - accuracy: 0.9723\n",
      "Epoch 5/5\n",
      "60000/60000 [==============================] - 65s 1ms/sample - loss: 0.0812 - accuracy: 0.9751\n",
      "(10000, 28, 28, 1)\n",
      "10000/10000 [==============================] - 3s 307us/sample - loss: 0.0532 - accuracy: 0.9850\n",
      "selu's Test accuracy: 0.985\n",
      "Train on 60000 samples\n",
      "Epoch 1/5\n",
      "60000/60000 [==============================] - 79s 1ms/sample - loss: 1.8566 - accuracy: 0.3359\n",
      "Epoch 2/5\n",
      "60000/60000 [==============================] - 79s 1ms/sample - loss: 1.4094 - accuracy: 0.4730\n",
      "Epoch 3/5\n",
      "60000/60000 [==============================] - 79s 1ms/sample - loss: 1.3157 - accuracy: 0.4897\n",
      "Epoch 4/5\n",
      "60000/60000 [==============================] - 79s 1ms/sample - loss: 1.2300 - accuracy: 0.5347\n",
      "Epoch 5/5\n",
      "60000/60000 [==============================] - 78s 1ms/sample - loss: 1.1620 - accuracy: 0.5674\n",
      "(10000, 28, 28, 1)\n",
      "10000/10000 [==============================] - 3s 262us/sample - loss: 0.4703 - accuracy: 0.9416\n",
      "softmax's Test accuracy: 0.9416\n",
      "Train on 60000 samples\n",
      "Epoch 1/5\n",
      "60000/60000 [==============================] - 56s 940us/sample - loss: 1.1469 - accuracy: 0.6288\n",
      "Epoch 2/5\n",
      "60000/60000 [==============================] - 56s 933us/sample - loss: 0.4302 - accuracy: 0.8659\n",
      "Epoch 3/5\n",
      "60000/60000 [==============================] - 57s 944us/sample - loss: 0.3180 - accuracy: 0.9029\n",
      "Epoch 4/5\n",
      "60000/60000 [==============================] - 56s 934us/sample - loss: 0.2386 - accuracy: 0.9287\n",
      "Epoch 5/5\n",
      "60000/60000 [==============================] - 56s 931us/sample - loss: 0.1908 - accuracy: 0.9424\n",
      "(10000, 28, 28, 1)\n",
      "10000/10000 [==============================] - 2s 229us/sample - loss: 0.0781 - accuracy: 0.9776\n",
      "softplus's Test accuracy: 0.9776\n",
      "Train on 60000 samples\n",
      "Epoch 1/5\n",
      "60000/60000 [==============================] - 51s 858us/sample - loss: 0.1984 - accuracy: 0.9408\n",
      "Epoch 2/5\n",
      "60000/60000 [==============================] - 51s 843us/sample - loss: 0.1085 - accuracy: 0.9673\n",
      "Epoch 3/5\n",
      "60000/60000 [==============================] - 50s 839us/sample - loss: 0.0957 - accuracy: 0.9703\n",
      "Epoch 4/5\n",
      "60000/60000 [==============================] - 51s 848us/sample - loss: 0.0872 - accuracy: 0.9727\n",
      "Epoch 5/5\n",
      "60000/60000 [==============================] - 51s 850us/sample - loss: 0.0792 - accuracy: 0.9754\n",
      "(10000, 28, 28, 1)\n",
      "10000/10000 [==============================] - 2s 179us/sample - loss: 0.0557 - accuracy: 0.9821\n",
      "softsign's Test accuracy: 0.9821\n",
      "Train on 60000 samples\n",
      "Epoch 1/5\n",
      "60000/60000 [==============================] - 57s 956us/sample - loss: 2.3785 - accuracy: 0.1039\n",
      "Epoch 2/5\n",
      "60000/60000 [==============================] - 57s 947us/sample - loss: 2.3095 - accuracy: 0.1048\n",
      "Epoch 3/5\n",
      "60000/60000 [==============================] - 58s 960us/sample - loss: 2.3094 - accuracy: 0.1061\n",
      "Epoch 4/5\n",
      "60000/60000 [==============================] - 58s 967us/sample - loss: 2.3102 - accuracy: 0.1015\n",
      "Epoch 5/5\n",
      "60000/60000 [==============================] - 57s 955us/sample - loss: 2.3096 - accuracy: 0.1033\n",
      "(10000, 28, 28, 1)\n",
      "10000/10000 [==============================] - 2s 195us/sample - loss: 2.3025 - accuracy: 0.1135\n",
      "hard_sigmoid's Test accuracy: 0.1135\n",
      "Train on 60000 samples\n",
      "Epoch 1/5\n",
      "60000/60000 [==============================] - 49s 824us/sample - loss: nan - accuracy: 0.0986\n",
      "Epoch 2/5\n",
      "60000/60000 [==============================] - 49s 824us/sample - loss: nan - accuracy: 0.0987\n",
      "Epoch 3/5\n",
      "60000/60000 [==============================] - 50s 826us/sample - loss: nan - accuracy: 0.0987\n",
      "Epoch 4/5\n",
      "60000/60000 [==============================] - 50s 827us/sample - loss: nan - accuracy: 0.0987\n",
      "Epoch 5/5\n",
      "60000/60000 [==============================] - 50s 829us/sample - loss: nan - accuracy: 0.0987\n",
      "(10000, 28, 28, 1)\n",
      "10000/10000 [==============================] - 2s 176us/sample - loss: nan - accuracy: 0.0980\n",
      "exponential's Test accuracy: 0.098\n",
      "Train on 60000 samples\n",
      "Epoch 1/5\n",
      "60000/60000 [==============================] - 47s 779us/sample - loss: 0.2085 - accuracy: 0.9376\n",
      "Epoch 2/5\n",
      "60000/60000 [==============================] - 47s 782us/sample - loss: 0.1242 - accuracy: 0.9625\n",
      "Epoch 3/5\n",
      "60000/60000 [==============================] - 47s 778us/sample - loss: 0.1122 - accuracy: 0.9668\n",
      "Epoch 4/5\n",
      "60000/60000 [==============================] - 46s 771us/sample - loss: 0.1007 - accuracy: 0.9692\n",
      "Epoch 5/5\n",
      "60000/60000 [==============================] - 46s 773us/sample - loss: 0.0942 - accuracy: 0.9714\n",
      "(10000, 28, 28, 1)\n",
      "10000/10000 [==============================] - 2s 168us/sample - loss: 0.0892 - accuracy: 0.9734\n",
      "linear's Test accuracy: 0.9734\n"
     ]
    }
   ],
   "source": [
    "epochs = 5\n",
    "\n",
    "for active in ['relu','tanh','sigmoid','selu','softmax','softplus','softsign','hard_sigmoid','exponential','linear']:\n",
    "    model = keras.Sequential()\n",
    "    # 32 convolution filters used each of size 3x3\n",
    "    model.add(Conv2D(32, kernel_size=(3, 3), activation=active, input_shape=(28, 28, 1)))\n",
    "    # 64 convolution filters used each of size 3x3\n",
    "    model.add(Conv2D(64, (3, 3), activation=active))\n",
    "    # choose the best features via pooling\n",
    "    model.add(MaxPooling2D(pool_size=(2, 2)))\n",
    "    # randomly turn neurons on and off to improve convergence\n",
    "    model.add(Dropout(0.25))\n",
    "    # flatten since too many dimensions, we only want a classification output\n",
    "    model.add(Flatten())\n",
    "    # fully connected to get all relevant data\n",
    "    model.add(Dense(128, activation=active))\n",
    "    # one more dropout\n",
    "    model.add(Dropout(0.5))\n",
    "    # output a softmax to squash the matrix into output probabilities\n",
    "    model.add(Dense(10, activation='softmax'))\n",
    "    model.compile(optimizer='adam', \n",
    "              loss='sparse_categorical_crossentropy',\n",
    "              metrics=['accuracy'])\n",
    "\n",
    "    history = model.fit(train_images, train_labels, epochs=epochs)\n",
    "    print(test_images.shape)\n",
    "    test_loss, test_acc = model.evaluate(test_images, test_labels)\n",
    "\n",
    "    print(active + '\\'s Test accuracy:', test_acc)"
   ]
  },
  {
   "cell_type": "markdown",
   "metadata": {},
   "source": [
    "### Test accuracy\n",
    "\n",
    "It said too much good things can be harmful:\n",
    "The choise of activation is fundamental:\n",
    "\n",
    "    relu's           Test accuracy: 0.992\n",
    "    softsign's       Test accuracy: 0.9833\n",
    "    selu's           Test accuracy: 0.9828\n",
    "    tanh's           Test accuracy: 0.9805\n",
    "    softplus's       Test accuracy: 0.9804\n",
    "    linear's         Test accuracy: 0.9775\n",
    "    softmax's        Test accuracy: 0.9656\n",
    "    sigmoid's        Test accuracy: 0.101\n",
    "    hard_sigmoid's   Test accuracy: 0.101\n",
    "    exponential's    Test accuracy: 0.098\n",
    "\n",
    "The accuracy can be little difference\n",
    "Here comes the question:\n",
    "1. The combination of activation can be better?\n",
    "2. Why relu, why not the other function:\n",
    "\n",
    "To test the 1st question, here we try:"
   ]
  },
  {
   "cell_type": "code",
   "execution_count": 8,
   "metadata": {
    "scrolled": true
   },
   "outputs": [
    {
     "name": "stdout",
     "output_type": "stream",
     "text": [
      "Train on 60000 samples\n",
      "Epoch 1/5\n",
      "60000/60000 [==============================] - 50s 838us/sample - loss: 0.1613 - accuracy: 0.9514\n",
      "Epoch 2/5\n",
      "60000/60000 [==============================] - 50s 833us/sample - loss: 0.0824 - accuracy: 0.9750\n",
      "Epoch 3/5\n",
      "60000/60000 [==============================] - 51s 842us/sample - loss: 0.0648 - accuracy: 0.9799\n",
      "Epoch 4/5\n",
      "60000/60000 [==============================] - 52s 861us/sample - loss: 0.0532 - accuracy: 0.9833\n",
      "Epoch 5/5\n",
      "60000/60000 [==============================] - 52s 863us/sample - loss: 0.0479 - accuracy: 0.9850\n",
      "(10000, 28, 28, 1)\n",
      "10000/10000 [==============================] - 2s 183us/sample - loss: 0.0425 - accuracy: 0.9877\n",
      "linear's Test accuracy: 0.9877\n"
     ]
    }
   ],
   "source": [
    "epochs = 5\n",
    "model = keras.Sequential()\n",
    "# 32 convolution filters used each of size 3x3\n",
    "model.add(Conv2D(32, kernel_size=(3, 3), activation='relu', input_shape=(28, 28, 1)))\n",
    "# 64 convolution filters used each of size 3x3\n",
    "model.add(Conv2D(64, (3, 3), activation='softsign'))\n",
    "# choose the best features via pooling\n",
    "model.add(MaxPooling2D(pool_size=(2, 2)))\n",
    "# randomly turn neurons on and off to improve convergence\n",
    "model.add(Dropout(0.25))\n",
    "# flatten since too many dimensions, we only want a classification output\n",
    "model.add(Flatten())\n",
    "# fully connected to get all relevant data\n",
    "model.add(Dense(128, activation='selu'))\n",
    "# one more dropout\n",
    "model.add(Dropout(0.5))\n",
    "# output a softmax to squash the matrix into output probabilities\n",
    "model.add(Dense(10, activation='softmax'))\n",
    "\n",
    "model.compile(optimizer='adam', \n",
    "          loss='sparse_categorical_crossentropy',\n",
    "          metrics=['accuracy'])\n",
    "\n",
    "history = model.fit(train_images, train_labels, epochs=epochs)\n",
    "print(test_images.shape)\n",
    "test_loss, test_acc = model.evaluate(test_images, test_labels)\n",
    "\n",
    "print(active + '\\'s Test accuracy:', test_acc)"
   ]
  },
  {
   "cell_type": "markdown",
   "metadata": {},
   "source": [
    "It is too good thing make it worse."
   ]
  },
  {
   "cell_type": "markdown",
   "metadata": {},
   "source": [
    "### How to choose activation function:\n",
    "\n",
    "In activation function,I choose: \n",
    "\n",
    "    the sigmoid function when I'm dealing with probabilities; \n",
    "    the ReLU when I'm dealing with positive values;\n",
    "    the linear function when I'm dealing with general values ;\n",
    "\n",
    "In hidden layers, the choice for them in the hidden layer is mostly due to trial and error:\n",
    "\n",
    "    sigmoid;\n",
    "    the leaky ReLU to avoid dead neurons instead of the ReLU; \n",
    "    the tanh instead of the sigmoid;\n",
    "    ELU (exponential linear units)\n",
    "    SELU (self-normalising version of ELU):Under some mild assumptions, SELU self-normalisation\n",
    "    \n",
    "[quote from ai.stackexchange](https://ai.stackexchange.com/questions/7088/how-to-choose-an-activation-function)\n",
    "Or please see the [YouTube](https://www.youtube.com/watch?v=k678CW_LFwk)\n",
    "\n",
    "ReLu:\n",
    "\n",
    "    The advantage:\n",
    "    \n",
    "        Basically, “I want to see only what I am looking for”\n",
    "        By zeroing “less relevant” signals, it can be recognized as “less relevant” or “more relevant”. \n",
    "        \n",
    "    Situations:\n",
    "        A rule of thumb is to use them after convolutional layers, \n",
    "        but sometimes they can be used after dense layers if you want more sparse activations.\n",
    "        \n",
    "Softmax:\n",
    "\n",
    "    The advantage:\n",
    "        Also known as “give-me-the-probability-distribution” function.\n",
    "        Possibly helping to reduce the noise in following layers\n",
    "        \n",
    "    Situation:\n",
    "         Using softmax as a gate.\n",
    "\n",
    "Tanh\n",
    "\n",
    "    The advantage:\n",
    "        The sign of the output is relevant, but the magnitude can mess with the further computations.\n",
    "        An elegant way to “squish” the output into [−1,1] range. \n",
    "        Preserving the sign and conforming to the boundary conditions\n",
    "        \n",
    "    Situations:\n",
    "         It’s useful when after the magnitude of unprocessed output grows significantly, \n",
    "         the further growth is not that important, and vice versa; \n",
    "         when the fluctuations around zero make significant difference.\n",
    "         \n",
    "Rule of thumb (with the usual caveats on rules of thumb) from ![Karpathy et al in CS231.](./img/quora_1.png)"
   ]
  },
  {
   "cell_type": "markdown",
   "metadata": {},
   "source": [
    "### Here we show you the experts version said by [tensorflow](https://www.tensorflow.org/overview/)\n",
    "The Subclassing API provides a define-by-run interface for advanced research. \n",
    "Create a class for your model, then write the forward pass imperatively. \n",
    "Easily author custom layers, activations, and training loops. \n",
    "Run the “Hello World” example below, then visit the tutorials to learn more."
   ]
  },
  {
   "cell_type": "code",
   "execution_count": 16,
   "metadata": {},
   "outputs": [],
   "source": [
    "mnist = tf.keras.datasets.mnist\n",
    "\n",
    "# It is the same for \n",
    "# (train_images, train_labels), (test_images, test_labels) = keras.datasets.mnist.load_data()\n",
    "\n",
    "(x_train, y_train), (x_test, y_test) = mnist.load_data()\n",
    "x_train, x_test = x_train / 255.0, x_test / 255.0\n",
    "\n",
    "# Add a channels dimension\n",
    "x_train = x_train[..., tf.newaxis]\n",
    "x_test = x_test[..., tf.newaxis]"
   ]
  },
  {
   "cell_type": "markdown",
   "metadata": {},
   "source": [
    "### batch \n",
    "Use tf.data to batch and shuffle the dataset.\n",
    "First you should understand what is __online learning__\n",
    "\n",
    "#### online learning\n",
    "Now, you can start feeding the images from the training data one by one to the network, get the prediction (till this step it's called as __doing inference__), compute the __loss__, compute the __gradient__, and then __update__ the parameters of your network (i.e. __weights__ and __biases__) and then proceed with the next image ... This way of training the model is sometimes called as __online learning__.\n",
    "\n",
    "But, you want \n",
    "+ the `training` to be __faster__, \n",
    "+ the `gradients` to be __less noisy__, \n",
    "+ take advantage of the power of __GPUs__ which are efficient at doing array operations (nD-arrays to be specific). \n",
    "\n",
    "\n",
    "So, what you instead do is feed in say __100 images__ at a time ( ***the choice of this size is up to you*** (i.e. it's a hyperparameter) and depends on your problem too). \n",
    "For instance, take a look at the below picture, (Author: __Martin Gorner__)\n",
    "\n",
    "![100 image](./img/8FzdQ.png)\n",
    "![on a batch of images](./img/vncAa.png)\n",
    "\n",
    "Author: __Martin Gorner__"
   ]
  },
  {
   "cell_type": "code",
   "execution_count": 17,
   "metadata": {},
   "outputs": [
    {
     "name": "stdout",
     "output_type": "stream",
     "text": [
      "(60000, 28, 28, 1)\n"
     ]
    }
   ],
   "source": [
    "train_ds = tf.data.Dataset.from_tensor_slices(\n",
    "    (x_train, y_train)).shuffle(10000).batch(32)\n",
    "print(x_train.shape)\n",
    "test_ds = tf.data.Dataset.from_tensor_slices((x_test, y_test)).batch(32)"
   ]
  },
  {
   "cell_type": "markdown",
   "metadata": {},
   "source": [
    "### Using Class\n",
    "Build the `tf.keras` model using the Keras [model subclassing API](https://www.tensorflow.org/guide/keras#model_subclassing):\n",
    "\n",
    "The 1st difference is the `tf.nn.Dropout` is removed.\n",
    "Dropout consists in randomly setting a fraction rate of inpute units to 0 at each update during training time, which helps __prevent overfitting__"
   ]
  },
  {
   "cell_type": "code",
   "execution_count": 18,
   "metadata": {},
   "outputs": [],
   "source": [
    "class MyModel(tf.keras.Model):\n",
    "  def __init__(self):\n",
    "    super(MyModel, self).__init__()\n",
    "    # 32 convolution filters used each of size 3x3\n",
    "    # Conv2D(32, kernel_size=(3, 3), activation='relu', input_shape=(28, 28, 1)))\n",
    "    self.conv1 = Conv2D(32, 3, activation='relu')\n",
    "    self.flatten = Flatten()    \n",
    "    # 128 convolution filters used each of size 3x3\n",
    "    self.d1 = Dense(128, activation='relu')\n",
    "    self.dr = Dropout(0.25)\n",
    "    # output a softmax to squash the matrix into output probabilities\n",
    "    self.d2 = Dense(10, activation='softmax')\n",
    "\n",
    "  def call(self, x):\n",
    "    x = self.conv1(x)\n",
    "    x = self.flatten(x)\n",
    "    x = self.d1(x)\n",
    "    x = self.dr(x)\n",
    "    return self.d2(x)\n",
    "model = MyModel()\n",
    "\n",
    "loss_object = tf.keras.losses.SparseCategoricalCrossentropy()\n",
    "\n",
    "optimizer = tf.keras.optimizers.Adam()"
   ]
  },
  {
   "cell_type": "code",
   "execution_count": 19,
   "metadata": {},
   "outputs": [],
   "source": [
    "train_loss = tf.keras.metrics.Mean(name='train_loss')\n",
    "train_accuracy = tf.keras.metrics.SparseCategoricalAccuracy(name='train_accuracy')\n",
    "\n",
    "test_loss = tf.keras.metrics.Mean(name='test_loss')\n",
    "test_accuracy = tf.keras.metrics.SparseCategoricalAccuracy(name='test_accuracy')"
   ]
  },
  {
   "cell_type": "markdown",
   "metadata": {},
   "source": [
    "### GradientTape\n",
    "Use tf.GradientTape to train the model:\n",
    "`tf.GradientTape` API for automatic differentiation - computing the gradient of a computation with respect to its input variables\n",
    "\n",
    "### train the model\n",
    "Use `tf.GradientTape` to train the model:"
   ]
  },
  {
   "cell_type": "code",
   "execution_count": 20,
   "metadata": {},
   "outputs": [],
   "source": [
    "@tf.function\n",
    "def train_step(images, labels):\n",
    "  with tf.GradientTape() as tape:\n",
    "    predictions = model(images)\n",
    "    loss = loss_object(labels, predictions)\n",
    "  gradients = tape.gradient(loss, model.trainable_variables)\n",
    "  optimizer.apply_gradients(zip(gradients, model.trainable_variables))\n",
    "\n",
    "  train_loss(loss)\n",
    "  train_accuracy(labels, predictions)"
   ]
  },
  {
   "cell_type": "code",
   "execution_count": 21,
   "metadata": {},
   "outputs": [],
   "source": [
    "@tf.function\n",
    "def test_step(images, labels):\n",
    "  predictions = model(images)\n",
    "  t_loss = loss_object(labels, predictions)\n",
    "\n",
    "  test_loss(t_loss)\n",
    "  test_accuracy(labels, predictions)"
   ]
  },
  {
   "cell_type": "code",
   "execution_count": 22,
   "metadata": {},
   "outputs": [
    {
     "name": "stdout",
     "output_type": "stream",
     "text": [
      "Epoch 1, Loss: 0.13381126523017883, Accuracy: 95.9749984741211, Test Loss: 0.05861267074942589, Test Accuracy: 98.16999816894531\n",
      "Epoch 2, Loss: 0.08762375265359879, Accuracy: 97.33916473388672, Test Loss: 0.05746141076087952, Test Accuracy: 98.15999603271484\n",
      "Epoch 3, Loss: 0.06518901139497757, Accuracy: 98.02111053466797, Test Loss: 0.060735978186130524, Test Accuracy: 98.1199951171875\n",
      "Epoch 4, Loss: 0.05172641947865486, Accuracy: 98.42666625976562, Test Loss: 0.06828326731920242, Test Accuracy: 98.05500030517578\n",
      "Epoch 5, Loss: 0.04335177317261696, Accuracy: 98.67933654785156, Test Loss: 0.0688379630446434, Test Accuracy: 98.09600067138672\n"
     ]
    }
   ],
   "source": [
    "EPOCHS = 5\n",
    "\n",
    "for epoch in range(EPOCHS):\n",
    "  for images, labels in train_ds:\n",
    "    train_step(images, labels)\n",
    "\n",
    "  for test_images, test_labels in test_ds:\n",
    "    test_step(test_images, test_labels)\n",
    "\n",
    "  template = 'Epoch {}, Loss: {}, Accuracy: {}, Test Loss: {}, Test Accuracy: {}'\n",
    "  print (template.format(epoch+1,\n",
    "                         train_loss.result(),\n",
    "                         train_accuracy.result()*100,\n",
    "                         test_loss.result(),\n",
    "                         test_accuracy.result()*100))"
   ]
  },
  {
   "cell_type": "code",
   "execution_count": null,
   "metadata": {},
   "outputs": [],
   "source": []
  },
  {
   "cell_type": "code",
   "execution_count": null,
   "metadata": {},
   "outputs": [],
   "source": []
  }
 ],
 "metadata": {
  "kernelspec": {
   "display_name": "Python 3",
   "language": "python",
   "name": "python3"
  },
  "language_info": {
   "codemirror_mode": {
    "name": "ipython",
    "version": 3
   },
   "file_extension": ".py",
   "mimetype": "text/x-python",
   "name": "python",
   "nbconvert_exporter": "python",
   "pygments_lexer": "ipython3",
   "version": "3.7.3"
  }
 },
 "nbformat": 4,
 "nbformat_minor": 2
}
