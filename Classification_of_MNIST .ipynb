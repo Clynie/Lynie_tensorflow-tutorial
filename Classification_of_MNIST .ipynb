{
 "cells": [
  {
   "cell_type": "markdown",
   "metadata": {},
   "source": [
    "# Getting started with the Keras sequential model"
   ]
  },
  {
   "cell_type": "code",
   "execution_count": 1,
   "metadata": {},
   "outputs": [
    {
     "name": "stdout",
     "output_type": "stream",
     "text": [
      "1.13.1\n"
     ]
    }
   ],
   "source": [
    "# TensorFlow and tf.keras\n",
    "import tensorflow as tf\n",
    "from tensorflow import keras\n",
    "from tensorflow.keras.layers import Conv2D, MaxPooling2D, Dropout, Flatten, Dense\n",
    "\n",
    "# Commonly used modules\n",
    "import numpy as np\n",
    "import os\n",
    "import sys\n",
    "import random\n",
    "\n",
    "# Images, plots, display, and visualization\n",
    "import matplotlib.pyplot as plt\n",
    "import pandas as pd\n",
    "import seaborn as sns\n",
    "import cv2\n",
    "import IPython\n",
    "from six.moves import urllib\n",
    "\n",
    "print(tf.__version__)"
   ]
  },
  {
   "cell_type": "code",
   "execution_count": 2,
   "metadata": {},
   "outputs": [],
   "source": [
    "# Set common constants\n",
    "this_repo_url = 'https://github.com/CLynie/Lynie_tensorflow-tutorial/blob/master/'\n",
    "this_tutorial_url = this_repo_url + 'Classification_of_MNIST '"
   ]
  },
  {
   "cell_type": "markdown",
   "metadata": {},
   "source": [
    "The MNIST dataset containss 70,000 grayscale images of handwritten digits at a resolution of 28 by 28 pixels. The task is to take one of these images as input and predict the most likely digit contained in the image (along with a relative confidence in this prediction):\n",
    "\n",
    "<img src=\"https://i.imgur.com/ITrm9x4.png\" width=\"500px\">\n",
    "\n",
    "\n",
    "Now, we load the dataset. The images are 28x28 NumPy arrays, with pixel values ranging between 0 and 255. The *labels* are an array of integers, ranging from 0 to 9."
   ]
  },
  {
   "cell_type": "code",
   "execution_count": 3,
   "metadata": {},
   "outputs": [],
   "source": [
    "(train_images, train_labels), (test_images, test_labels) = keras.datasets.mnist.load_data()\n",
    "\n",
    "# reshape images to specify that it's a single channel\n",
    "train_images = train_images.reshape(train_images.shape[0], 28, 28, 1)\n",
    "test_images = test_images.reshape(test_images.shape[0], 28, 28, 1)"
   ]
  },
  {
   "cell_type": "markdown",
   "metadata": {},
   "source": [
    "We <b> scale these values </b> to a range of <b> 0 to 1 </b> before feeding to the neural network model. For this, we divide the values by 255. It's important that the **_training set_** and the **_testing set_** are preprocessed in the same way:"
   ]
  },
  {
   "cell_type": "code",
   "execution_count": 4,
   "metadata": {},
   "outputs": [
    {
     "name": "stdout",
     "output_type": "stream",
     "text": [
      "(60000, 28, 28, 1)\n"
     ]
    }
   ],
   "source": [
    "def preprocess_images(imgs): # should work for both a single image and multiple images\n",
    "    sample_img = imgs if len(imgs.shape) == 2 else imgs[0]\n",
    "    assert sample_img.shape in [(28, 28, 1), (28, 28)], sample_img.shape # make sure images are 28x28 and single-channel (grayscale)\n",
    "    return imgs / 255.0\n",
    "\n",
    "train_images = preprocess_images(train_images)\n",
    "print(np.shape(train_images))\n",
    "test_images = preprocess_images(test_images)"
   ]
  },
  {
   "cell_type": "code",
   "execution_count": 5,
   "metadata": {},
   "outputs": [
    {
     "data": {
      "image/png": "[encoded data removed]",
      "text/plain": [
       "<Figure size 720x144 with 5 Axes>"
      ]
     },
     "metadata": {},
     "output_type": "display_data"
    }
   ],
   "source": [
    "plt.figure(figsize=(10,2))\n",
    "for i in range(5):\n",
    "    plt.subplot(1,5,i+1)\n",
    "    plt.xticks([])\n",
    "    plt.yticks([])\n",
    "    plt.grid(False)\n",
    "    rd = random.randrange(train_images.shape[0]-5)\n",
    "    plt.imshow(train_images[i+rd].reshape(28, 28), cmap=plt.cm.binary)\n",
    "    plt.xlabel(train_labels[i+rd])"
   ]
  },
  {
   "cell_type": "markdown",
   "metadata": {},
   "source": [
    "### Build the model\n",
    "\n",
    "Building the neural network requires configuring the layers of the model, then compiling the model. In many cases, this can be reduced to simply stacking together layers:\n",
    "\n",
    "### Train the model\n",
    "\n",
    "Training the neural network model requires the following steps:\n",
    "\n",
    "1. Feed the training data to the model—in this example, the `train_images` and `train_labels` arrays.\n",
    "2. The model learns to associate images and labels.\n",
    "3. We ask the model to make predictions about a test set—in this example, the `test_images` array. We verify that the predictions match the labels from the `test_labels` array. \n",
    "\n",
    "To start training,  call the `model.fit` method—the model is \"fit\" to the training data:\n",
    "\n",
    "\n",
    "### The character of activation:\n",
    "1. "
   ]
  },
  {
   "cell_type": "markdown",
   "metadata": {},
   "source": [
    "### Test every activate function\n",
    "Most of the tutorials try the tf.nn.relu for mnist. But why?\n",
    "Here I present every activation, here comes the results:"
   ]
  },
  {
   "cell_type": "code",
   "execution_count": 22,
   "metadata": {},
   "outputs": [
    {
     "name": "stdout",
     "output_type": "stream",
     "text": [
      "Epoch 1/5\n",
      "60000/60000 [==============================] - 70s 1ms/sample - loss: 0.2020 - acc: 0.9392\n",
      "Epoch 2/5\n",
      "60000/60000 [==============================] - 70s 1ms/sample - loss: 0.0853 - acc: 0.9739\n",
      "Epoch 3/5\n",
      "60000/60000 [==============================] - 70s 1ms/sample - loss: 0.0650 - acc: 0.9800\n",
      "Epoch 4/5\n",
      "60000/60000 [==============================] - 71s 1ms/sample - loss: 0.0530 - acc: 0.9837\n",
      "Epoch 5/5\n",
      "60000/60000 [==============================] - 71s 1ms/sample - loss: 0.0456 - acc: 0.9859\n",
      "(10000, 28, 28, 1)\n",
      "10000/10000 [==============================] - 3s 272us/sample - loss: 0.0276 - acc: 0.9920\n",
      "relu's Test accuracy: 0.992\n",
      "Epoch 1/5\n",
      "60000/60000 [==============================] - 73s 1ms/sample - loss: 0.2058 - acc: 0.9375\n",
      "Epoch 2/5\n",
      "60000/60000 [==============================] - 72s 1ms/sample - loss: 0.1198 - acc: 0.9634\n",
      "Epoch 3/5\n",
      "60000/60000 [==============================] - 72s 1ms/sample - loss: 0.1032 - acc: 0.9676\n",
      "Epoch 4/5\n",
      "60000/60000 [==============================] - 72s 1ms/sample - loss: 0.0988 - acc: 0.9691\n",
      "Epoch 5/5\n",
      "60000/60000 [==============================] - 72s 1ms/sample - loss: 0.0955 - acc: 0.9694\n",
      "(10000, 28, 28, 1)\n",
      "10000/10000 [==============================] - 3s 283us/sample - loss: 0.0630 - acc: 0.9805\n",
      "tanh's Test accuracy: 0.9805\n",
      "Epoch 1/5\n",
      "60000/60000 [==============================] - 71s 1ms/sample - loss: 2.3564 - acc: 0.1000\n",
      "Epoch 2/5\n",
      "60000/60000 [==============================] - 71s 1ms/sample - loss: 2.3083 - acc: 0.1034\n",
      "Epoch 3/5\n",
      "60000/60000 [==============================] - 73s 1ms/sample - loss: 2.3080 - acc: 0.1033\n",
      "Epoch 4/5\n",
      "60000/60000 [==============================] - 74s 1ms/sample - loss: 2.3075 - acc: 0.1045\n",
      "Epoch 5/5\n",
      "60000/60000 [==============================] - 74s 1ms/sample - loss: 2.3078 - acc: 0.1044\n",
      "(10000, 28, 28, 1)\n",
      "10000/10000 [==============================] - 3s 295us/sample - loss: 2.3049 - acc: 0.1010\n",
      "sigmoid's Test accuracy: 0.101\n",
      "Epoch 1/5\n",
      "60000/60000 [==============================] - 93s 2ms/sample - loss: 0.2305 - acc: 0.9307\n",
      "Epoch 2/5\n",
      "60000/60000 [==============================] - 93s 2ms/sample - loss: 0.1337 - acc: 0.9606\n",
      "Epoch 3/5\n",
      "60000/60000 [==============================] - 93s 2ms/sample - loss: 0.1103 - acc: 0.9671\n",
      "Epoch 4/5\n",
      "60000/60000 [==============================] - 93s 2ms/sample - loss: 0.0947 - acc: 0.9715\n",
      "Epoch 5/5\n",
      "60000/60000 [==============================] - 93s 2ms/sample - loss: 0.0837 - acc: 0.9745\n",
      "(10000, 28, 28, 1)\n",
      "10000/10000 [==============================] - 4s 421us/sample - loss: 0.0598 - acc: 0.9828\n",
      "selu's Test accuracy: 0.9828\n",
      "WARNING:tensorflow:From /usr/local/lib/python3.6/site-packages/tensorflow/python/ops/math_ops.py:3066: to_int32 (from tensorflow.python.ops.math_ops) is deprecated and will be removed in a future version.\n",
      "Instructions for updating:\n",
      "Use tf.cast instead.\n",
      "WARNING:tensorflow:From /usr/local/lib/python3.6/site-packages/tensorflow/python/ops/math_grad.py:102: div (from tensorflow.python.ops.math_ops) is deprecated and will be removed in a future version.\n",
      "Instructions for updating:\n",
      "Deprecated in favor of operator or tf.math.divide.\n",
      "Epoch 1/5\n",
      "60000/60000 [==============================] - 109s 2ms/sample - loss: 1.8978 - acc: 0.2824\n",
      "Epoch 2/5\n",
      "60000/60000 [==============================] - 107s 2ms/sample - loss: 1.4900 - acc: 0.4298\n",
      "Epoch 3/5\n",
      "60000/60000 [==============================] - 107s 2ms/sample - loss: 1.2784 - acc: 0.5105\n",
      "Epoch 4/5\n",
      "60000/60000 [==============================] - 106s 2ms/sample - loss: 1.2094 - acc: 0.5430\n",
      "Epoch 5/5\n",
      "60000/60000 [==============================] - 106s 2ms/sample - loss: 1.1246 - acc: 0.5661\n",
      "(10000, 28, 28, 1)\n",
      "10000/10000 [==============================] - 4s 382us/sample - loss: 0.4101 - acc: 0.9656\n",
      "softmax's Test accuracy: 0.9656\n",
      "Epoch 1/5\n",
      "60000/60000 [==============================] - 78s 1ms/sample - loss: 1.2499 - acc: 0.5529\n",
      "Epoch 2/5\n",
      "60000/60000 [==============================] - 78s 1ms/sample - loss: 0.2820 - acc: 0.9133\n",
      "Epoch 3/5\n",
      "60000/60000 [==============================] - 79s 1ms/sample - loss: 0.1951 - acc: 0.9417\n",
      "Epoch 4/5\n",
      "60000/60000 [==============================] - 79s 1ms/sample - loss: 0.1568 - acc: 0.9519\n",
      "Epoch 5/5\n",
      "60000/60000 [==============================] - 79s 1ms/sample - loss: 0.1368 - acc: 0.9585\n",
      "(10000, 28, 28, 1)\n",
      "10000/10000 [==============================] - 4s 405us/sample - loss: 0.0625 - acc: 0.9804\n",
      "softplus's Test accuracy: 0.9804\n",
      "Epoch 1/5\n",
      "60000/60000 [==============================] - 75s 1ms/sample - loss: 0.1998 - acc: 0.9397\n",
      "Epoch 2/5\n",
      "60000/60000 [==============================] - 75s 1ms/sample - loss: 0.1101 - acc: 0.9669\n",
      "Epoch 3/5\n",
      "60000/60000 [==============================] - 75s 1ms/sample - loss: 0.0958 - acc: 0.9708\n",
      "Epoch 4/5\n",
      "60000/60000 [==============================] - 75s 1ms/sample - loss: 0.0864 - acc: 0.9736\n",
      "Epoch 5/5\n",
      "60000/60000 [==============================] - 75s 1ms/sample - loss: 0.0797 - acc: 0.9746\n",
      "(10000, 28, 28, 1)\n",
      "10000/10000 [==============================] - 3s 304us/sample - loss: 0.0520 - acc: 0.9833\n",
      "softsign's Test accuracy: 0.9833\n",
      "Epoch 1/5\n",
      "60000/60000 [==============================] - 86s 1ms/sample - loss: 2.3685 - acc: 0.1020\n",
      "Epoch 2/5\n",
      "60000/60000 [==============================] - 86s 1ms/sample - loss: 2.3102 - acc: 0.1045\n",
      "Epoch 3/5\n",
      "60000/60000 [==============================] - 85s 1ms/sample - loss: 2.3099 - acc: 0.1047\n",
      "Epoch 4/5\n",
      "60000/60000 [==============================] - 85s 1ms/sample - loss: 2.3099 - acc: 0.1033\n",
      "Epoch 5/5\n",
      "60000/60000 [==============================] - 86s 1ms/sample - loss: 2.3100 - acc: 0.1015\n",
      "(10000, 28, 28, 1)\n",
      "10000/10000 [==============================] - 3s 320us/sample - loss: 2.3085 - acc: 0.1010\n",
      "hard_sigmoid's Test accuracy: 0.101\n",
      "Epoch 1/5\n",
      "60000/60000 [==============================] - 75s 1ms/sample - loss: nan - acc: 0.0988\n",
      "Epoch 2/5\n",
      "60000/60000 [==============================] - 75s 1ms/sample - loss: nan - acc: 0.0987\n",
      "Epoch 3/5\n",
      "60000/60000 [==============================] - 76s 1ms/sample - loss: nan - acc: 0.0987\n",
      "Epoch 4/5\n",
      "60000/60000 [==============================] - 75s 1ms/sample - loss: nan - acc: 0.0987\n",
      "Epoch 5/5\n",
      "60000/60000 [==============================] - 75s 1ms/sample - loss: nan - acc: 0.0987\n",
      "(10000, 28, 28, 1)\n",
      "10000/10000 [==============================] - 3s 324us/sample - loss: nan - acc: 0.0980\n",
      "exponential's Test accuracy: 0.098\n",
      "Epoch 1/5\n",
      "60000/60000 [==============================] - 71s 1ms/sample - loss: 0.2101 - acc: 0.9371\n",
      "Epoch 2/5\n",
      "60000/60000 [==============================] - 71s 1ms/sample - loss: 0.1260 - acc: 0.9620\n",
      "Epoch 3/5\n",
      "60000/60000 [==============================] - 70s 1ms/sample - loss: 0.1091 - acc: 0.9672\n",
      "Epoch 4/5\n",
      "60000/60000 [==============================] - 71s 1ms/sample - loss: 0.1018 - acc: 0.9685\n",
      "Epoch 5/5\n",
      "60000/60000 [==============================] - 71s 1ms/sample - loss: 0.0955 - acc: 0.9707\n",
      "(10000, 28, 28, 1)\n",
      "10000/10000 [==============================] - 3s 292us/sample - loss: 0.0813 - acc: 0.9775\n",
      "linear's Test accuracy: 0.9775\n"
     ]
    }
   ],
   "source": [
    "epochs = 5\n",
    "\n",
    "for active in ['relu','tanh','sigmoid','selu','softmax','softplus','softsign','hard_sigmoid','exponential','linear']:\n",
    "    model = keras.Sequential()\n",
    "    # 32 convolution filters used each of size 3x3\n",
    "    model.add(Conv2D(32, kernel_size=(3, 3), activation=active, input_shape=(28, 28, 1)))\n",
    "    # 64 convolution filters used each of size 3x3\n",
    "    model.add(Conv2D(64, (3, 3), activation=active))\n",
    "    # choose the best features via pooling\n",
    "    model.add(MaxPooling2D(pool_size=(2, 2)))\n",
    "    # randomly turn neurons on and off to improve convergence\n",
    "    model.add(Dropout(0.25))\n",
    "    # flatten since too many dimensions, we only want a classification output\n",
    "    model.add(Flatten())\n",
    "    # fully connected to get all relevant data\n",
    "    model.add(Dense(128, activation=active))\n",
    "    # one more dropout\n",
    "    model.add(Dropout(0.5))\n",
    "    # output a softmax to squash the matrix into output probabilities\n",
    "    model.add(Dense(10, activation='softmax'))\n",
    "    model.compile(optimizer=tf.train.AdamOptimizer(), \n",
    "              loss='sparse_categorical_crossentropy',\n",
    "              metrics=['accuracy'])\n",
    "\n",
    "    history = model.fit(train_images, train_labels, epochs=epochs)\n",
    "    print(test_images.shape)\n",
    "    test_loss, test_acc = model.evaluate(test_images, test_labels)\n",
    "\n",
    "    print(active + '\\'s Test accuracy:', test_acc)"
   ]
  },
  {
   "cell_type": "markdown",
   "metadata": {},
   "source": [
    "### Test accuracy\n",
    "\n",
    "It said too much good things can be harmful:\n",
    "The choise of activation is fundamental:\n",
    "\n",
    "    relu's Test accuracy: 0.992\n",
    "    softsign's Test accuracy: 0.9833\n",
    "    selu's Test accuracy: 0.9828\n",
    "    tanh's Test accuracy: 0.9805\n",
    "    softplus's Test accuracy: 0.9804\n",
    "    linear's Test accuracy: 0.9775\n",
    "    softmax's Test accuracy: 0.9656\n",
    "    sigmoid's Test accuracy: 0.101\n",
    "    hard_sigmoid's Test accuracy: 0.101\n",
    "    exponential's Test accuracy: 0.098\n",
    "    \n",
    "Here comes the question:\n",
    "1. The combination of activation can be better?\n",
    "2. Why relu, why not the other function:\n",
    "\n",
    "To test the 1st question, here we try:"
   ]
  },
  {
   "cell_type": "code",
   "execution_count": 24,
   "metadata": {},
   "outputs": [
    {
     "ename": "ValueError",
     "evalue": "Unknown activation function:gaussian",
     "output_type": "error",
     "traceback": [
      "\u001b[0;31m---------------------------------------------------------------------------\u001b[0m",
      "\u001b[0;31mValueError\u001b[0m                                Traceback (most recent call last)",
      "\u001b[0;32m<ipython-input-24-d2157cda55c5>\u001b[0m in \u001b[0;36m<module>\u001b[0;34m\u001b[0m\n\u001b[1;32m      2\u001b[0m \u001b[0mmodel\u001b[0m \u001b[0;34m=\u001b[0m \u001b[0mkeras\u001b[0m\u001b[0;34m.\u001b[0m\u001b[0mSequential\u001b[0m\u001b[0;34m(\u001b[0m\u001b[0;34m)\u001b[0m\u001b[0;34m\u001b[0m\u001b[0m\n\u001b[1;32m      3\u001b[0m \u001b[0;31m# 32 convolution filters used each of size 3x3\u001b[0m\u001b[0;34m\u001b[0m\u001b[0;34m\u001b[0m\u001b[0m\n\u001b[0;32m----> 4\u001b[0;31m \u001b[0mmodel\u001b[0m\u001b[0;34m.\u001b[0m\u001b[0madd\u001b[0m\u001b[0;34m(\u001b[0m\u001b[0mConv2D\u001b[0m\u001b[0;34m(\u001b[0m\u001b[0;36m32\u001b[0m\u001b[0;34m,\u001b[0m \u001b[0mkernel_size\u001b[0m\u001b[0;34m=\u001b[0m\u001b[0;34m(\u001b[0m\u001b[0;36m3\u001b[0m\u001b[0;34m,\u001b[0m \u001b[0;36m3\u001b[0m\u001b[0;34m)\u001b[0m\u001b[0;34m,\u001b[0m \u001b[0mactivation\u001b[0m\u001b[0;34m=\u001b[0m\u001b[0;34m'gaussian'\u001b[0m\u001b[0;34m,\u001b[0m \u001b[0minput_shape\u001b[0m\u001b[0;34m=\u001b[0m\u001b[0;34m(\u001b[0m\u001b[0;36m28\u001b[0m\u001b[0;34m,\u001b[0m \u001b[0;36m28\u001b[0m\u001b[0;34m,\u001b[0m \u001b[0;36m1\u001b[0m\u001b[0;34m)\u001b[0m\u001b[0;34m)\u001b[0m\u001b[0;34m)\u001b[0m\u001b[0;34m\u001b[0m\u001b[0m\n\u001b[0m\u001b[1;32m      5\u001b[0m \u001b[0;31m# 64 convolution filters used each of size 3x3\u001b[0m\u001b[0;34m\u001b[0m\u001b[0;34m\u001b[0m\u001b[0m\n\u001b[1;32m      6\u001b[0m \u001b[0mmodel\u001b[0m\u001b[0;34m.\u001b[0m\u001b[0madd\u001b[0m\u001b[0;34m(\u001b[0m\u001b[0mConv2D\u001b[0m\u001b[0;34m(\u001b[0m\u001b[0;36m64\u001b[0m\u001b[0;34m,\u001b[0m \u001b[0;34m(\u001b[0m\u001b[0;36m3\u001b[0m\u001b[0;34m,\u001b[0m \u001b[0;36m3\u001b[0m\u001b[0;34m)\u001b[0m\u001b[0;34m,\u001b[0m \u001b[0mactivation\u001b[0m\u001b[0;34m=\u001b[0m\u001b[0;34m'gaussian'\u001b[0m\u001b[0;34m)\u001b[0m\u001b[0;34m)\u001b[0m\u001b[0;34m\u001b[0m\u001b[0m\n",
      "\u001b[0;32m/usr/local/lib/python3.6/site-packages/tensorflow/python/keras/layers/convolutional.py\u001b[0m in \u001b[0;36m__init__\u001b[0;34m(self, filters, kernel_size, strides, padding, data_format, dilation_rate, activation, use_bias, kernel_initializer, bias_initializer, kernel_regularizer, bias_regularizer, activity_regularizer, kernel_constraint, bias_constraint, **kwargs)\u001b[0m\n\u001b[1;32m    484\u001b[0m         \u001b[0mdata_format\u001b[0m\u001b[0;34m=\u001b[0m\u001b[0mdata_format\u001b[0m\u001b[0;34m,\u001b[0m\u001b[0;34m\u001b[0m\u001b[0m\n\u001b[1;32m    485\u001b[0m         \u001b[0mdilation_rate\u001b[0m\u001b[0;34m=\u001b[0m\u001b[0mdilation_rate\u001b[0m\u001b[0;34m,\u001b[0m\u001b[0;34m\u001b[0m\u001b[0m\n\u001b[0;32m--> 486\u001b[0;31m         \u001b[0mactivation\u001b[0m\u001b[0;34m=\u001b[0m\u001b[0mactivations\u001b[0m\u001b[0;34m.\u001b[0m\u001b[0mget\u001b[0m\u001b[0;34m(\u001b[0m\u001b[0mactivation\u001b[0m\u001b[0;34m)\u001b[0m\u001b[0;34m,\u001b[0m\u001b[0;34m\u001b[0m\u001b[0m\n\u001b[0m\u001b[1;32m    487\u001b[0m         \u001b[0muse_bias\u001b[0m\u001b[0;34m=\u001b[0m\u001b[0muse_bias\u001b[0m\u001b[0;34m,\u001b[0m\u001b[0;34m\u001b[0m\u001b[0m\n\u001b[1;32m    488\u001b[0m         \u001b[0mkernel_initializer\u001b[0m\u001b[0;34m=\u001b[0m\u001b[0minitializers\u001b[0m\u001b[0;34m.\u001b[0m\u001b[0mget\u001b[0m\u001b[0;34m(\u001b[0m\u001b[0mkernel_initializer\u001b[0m\u001b[0;34m)\u001b[0m\u001b[0;34m,\u001b[0m\u001b[0;34m\u001b[0m\u001b[0m\n",
      "\u001b[0;32m/usr/local/lib/python3.6/site-packages/tensorflow/python/keras/activations.py\u001b[0m in \u001b[0;36mget\u001b[0;34m(identifier)\u001b[0m\n\u001b[1;32m    209\u001b[0m   \u001b[0;32mif\u001b[0m \u001b[0misinstance\u001b[0m\u001b[0;34m(\u001b[0m\u001b[0midentifier\u001b[0m\u001b[0;34m,\u001b[0m \u001b[0msix\u001b[0m\u001b[0;34m.\u001b[0m\u001b[0mstring_types\u001b[0m\u001b[0;34m)\u001b[0m\u001b[0;34m:\u001b[0m\u001b[0;34m\u001b[0m\u001b[0m\n\u001b[1;32m    210\u001b[0m     \u001b[0midentifier\u001b[0m \u001b[0;34m=\u001b[0m \u001b[0mstr\u001b[0m\u001b[0;34m(\u001b[0m\u001b[0midentifier\u001b[0m\u001b[0;34m)\u001b[0m\u001b[0;34m\u001b[0m\u001b[0m\n\u001b[0;32m--> 211\u001b[0;31m     \u001b[0;32mreturn\u001b[0m \u001b[0mdeserialize\u001b[0m\u001b[0;34m(\u001b[0m\u001b[0midentifier\u001b[0m\u001b[0;34m)\u001b[0m\u001b[0;34m\u001b[0m\u001b[0m\n\u001b[0m\u001b[1;32m    212\u001b[0m   \u001b[0;32melif\u001b[0m \u001b[0mcallable\u001b[0m\u001b[0;34m(\u001b[0m\u001b[0midentifier\u001b[0m\u001b[0;34m)\u001b[0m\u001b[0;34m:\u001b[0m\u001b[0;34m\u001b[0m\u001b[0m\n\u001b[1;32m    213\u001b[0m     \u001b[0;32mreturn\u001b[0m \u001b[0midentifier\u001b[0m\u001b[0;34m\u001b[0m\u001b[0m\n",
      "\u001b[0;32m/usr/local/lib/python3.6/site-packages/tensorflow/python/keras/activations.py\u001b[0m in \u001b[0;36mdeserialize\u001b[0;34m(name, custom_objects)\u001b[0m\n\u001b[1;32m    200\u001b[0m       \u001b[0mmodule_objects\u001b[0m\u001b[0;34m=\u001b[0m\u001b[0mglobals\u001b[0m\u001b[0;34m(\u001b[0m\u001b[0;34m)\u001b[0m\u001b[0;34m,\u001b[0m\u001b[0;34m\u001b[0m\u001b[0m\n\u001b[1;32m    201\u001b[0m       \u001b[0mcustom_objects\u001b[0m\u001b[0;34m=\u001b[0m\u001b[0mcustom_objects\u001b[0m\u001b[0;34m,\u001b[0m\u001b[0;34m\u001b[0m\u001b[0m\n\u001b[0;32m--> 202\u001b[0;31m       printable_module_name='activation function')\n\u001b[0m\u001b[1;32m    203\u001b[0m \u001b[0;34m\u001b[0m\u001b[0m\n\u001b[1;32m    204\u001b[0m \u001b[0;34m\u001b[0m\u001b[0m\n",
      "\u001b[0;32m/usr/local/lib/python3.6/site-packages/tensorflow/python/keras/utils/generic_utils.py\u001b[0m in \u001b[0;36mdeserialize_keras_object\u001b[0;34m(identifier, module_objects, custom_objects, printable_module_name)\u001b[0m\n\u001b[1;32m    210\u001b[0m       \u001b[0;32mif\u001b[0m \u001b[0mfn\u001b[0m \u001b[0;32mis\u001b[0m \u001b[0;32mNone\u001b[0m\u001b[0;34m:\u001b[0m\u001b[0;34m\u001b[0m\u001b[0m\n\u001b[1;32m    211\u001b[0m         raise ValueError('Unknown ' + printable_module_name + ':' +\n\u001b[0;32m--> 212\u001b[0;31m                          function_name)\n\u001b[0m\u001b[1;32m    213\u001b[0m     \u001b[0;32mreturn\u001b[0m \u001b[0mfn\u001b[0m\u001b[0;34m\u001b[0m\u001b[0m\n\u001b[1;32m    214\u001b[0m   \u001b[0;32melse\u001b[0m\u001b[0;34m:\u001b[0m\u001b[0;34m\u001b[0m\u001b[0m\n",
      "\u001b[0;31mValueError\u001b[0m: Unknown activation function:gaussian"
     ]
    }
   ],
   "source": [
    "epochs = 5\n",
    "model = keras.Sequential()\n",
    "# 32 convolution filters used each of size 3x3\n",
    "model.add(Conv2D(32, kernel_size=(3, 3), activation='relu', input_shape=(28, 28, 1)))\n",
    "# 64 convolution filters used each of size 3x3\n",
    "model.add(Conv2D(64, (3, 3), activation='softsign'))\n",
    "# choose the best features via pooling\n",
    "model.add(MaxPooling2D(pool_size=(2, 2)))\n",
    "# randomly turn neurons on and off to improve convergence\n",
    "model.add(Dropout(0.25))\n",
    "# flatten since too many dimensions, we only want a classification output\n",
    "model.add(Flatten())\n",
    "# fully connected to get all relevant data\n",
    "model.add(Dense(128, activation='selu'))\n",
    "# one more dropout\n",
    "model.add(Dropout(0.5))\n",
    "# output a softmax to squash the matrix into output probabilities\n",
    "model.add(Dense(10, activation='softmax'))\n",
    "\n",
    "model.compile(optimizer=tf.train.AdamOptimizer(), \n",
    "          loss='sparse_categorical_crossentropy',\n",
    "          metrics=['accuracy'])\n",
    "\n",
    "history = model.fit(train_images, train_labels, epochs=epochs)\n",
    "print(test_images.shape)\n",
    "test_loss, test_acc = model.evaluate(test_images, test_labels)\n",
    "\n",
    "print(active + '\\'s Test accuracy:', test_acc)"
   ]
  },
  {
   "cell_type": "markdown",
   "metadata": {},
   "source": [
    "It is too good thing make it worse."
   ]
  },
  {
   "cell_type": "code",
   "execution_count": null,
   "metadata": {},
   "outputs": [],
   "source": []
  }
 ],
 "metadata": {
  "kernelspec": {
   "display_name": "Python 3",
   "language": "python",
   "name": "python3"
  },
  "language_info": {
   "codemirror_mode": {
    "name": "ipython",
    "version": 3
   },
   "file_extension": ".py",
   "mimetype": "text/x-python",
   "name": "python",
   "nbconvert_exporter": "python",
   "pygments_lexer": "ipython3",
   "version": "3.6.4"
  }
 },
 "nbformat": 4,
 "nbformat_minor": 2
}
