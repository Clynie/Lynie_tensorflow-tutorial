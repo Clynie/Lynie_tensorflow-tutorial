{
 "cells": [
  {
   "cell_type": "code",
   "execution_count": 1,
   "metadata": {},
   "outputs": [
    {
     "ename": "SyntaxError",
     "evalue": "invalid syntax (model.py, line 18)",
     "output_type": "error",
     "traceback": [
      "Traceback \u001b[0;36m(most recent call last)\u001b[0m:\n",
      "  File \u001b[1;32m\"/usr/local/lib/python3.7/site-packages/IPython/core/interactiveshell.py\"\u001b[0m, line \u001b[1;32m3296\u001b[0m, in \u001b[1;35mrun_code\u001b[0m\n    exec(code_obj, self.user_global_ns, self.user_ns)\n",
      "\u001b[0;36m  File \u001b[0;32m\"<ipython-input-1-b623df9a740c>\"\u001b[0;36m, line \u001b[0;32m6\u001b[0;36m, in \u001b[0;35m<module>\u001b[0;36m\u001b[0m\n\u001b[0;31m    import model\u001b[0m\n",
      "\u001b[0;36m  File \u001b[0;32m\"/Users/dxl/Documents/Python/Github/Lynie_tensorflow-tutorial/deeptesla/model.py\"\u001b[0;36m, line \u001b[0;32m18\u001b[0m\n\u001b[0;31m    x = tf.placeholder(tf.float32, shape=[None, params:.img_height, params.img_width, params.img_channels])\u001b[0m\n\u001b[0m                                                      ^\u001b[0m\n\u001b[0;31mSyntaxError\u001b[0m\u001b[0;31m:\u001b[0m invalid syntax\n"
     ]
    }
   ],
   "source": [
    "#!/usr/bin/env python\n",
    "from __future__ import division\n",
    "\n",
    "import tensorflow.compat.v1 as tf\n",
    "tf.disable_eager_execution()\n",
    "import model\n",
    "import cv2\n",
    "import subprocess as sp\n",
    "import itertools\n",
    "import params\n",
    "import sys\n",
    "import os\n",
    "import preprocess\n",
    "import visualize\n",
    "import time\n",
    "\n",
    "import local_common as cm\n",
    "print(tf.__version__)"
   ]
  },
  {
   "cell_type": "code",
   "execution_count": null,
   "metadata": {},
   "outputs": [],
   "source": [
    "\n",
    "sess = tf.InteractiveSession()\n",
    "saver = tf.train.Saver()\n",
    "model_name = 'model.ckpt'\n",
    "model_path = cm.jn(params.save_dir, model_name)\n",
    "saver.restore(sess, model_path)\n",
    "\n",
    "epoch_ids = sorted(list(set(itertools.chain(*params.epochs.values()))))\n",
    "\n",
    "for epoch_id in epoch_ids:\n",
    "    print('---------- processing video for epoch {} ----------'.format(epoch_id))\n",
    "    vid_path = cm.jn(params.data_dir, 'epoch{:0>2}_front.mkv'.format(epoch_id))\n",
    "    assert os.path.isfile(vid_path)\n",
    "    frame_count = cm.frame_count(vid_path)\n",
    "    cap = cv2.VideoCapture(vid_path)\n",
    "\n",
    "    machine_steering = []\n",
    "\n",
    "    print('performing inference...')\n",
    "    time_start = time.time()\n",
    "    for frame_id in xrange(frame_count):\n",
    "        ret, img = cap.read()\n",
    "        assert ret\n",
    "\n",
    "        img = preprocess.preprocess(img)\n",
    "        deg = model.y.eval(feed_dict={model.x: [img], model.keep_prob: 1.0})[0][0]\n",
    "        machine_steering.append(deg)\n",
    "\n",
    "    cap.release()\n",
    "\n",
    "    fps = frame_count / (time.time() - time_start)\n",
    "\n",
    "    print('completed inference, total frames: {}, average fps: {} Hz'.format(frame_count, round(fps, 1)))\n",
    "\n",
    "    print('performing visualization...'\n",
    "    visualize.visualize(epoch_id, machine_steering, params.out_dir,\n",
    "                        verbose=True, frame_count_limit=None))\n",
    "\n"
   ]
  }
 ],
 "metadata": {
  "kernelspec": {
   "display_name": "Python 3",
   "language": "python",
   "name": "python3"
  },
  "language_info": {
   "codemirror_mode": {
    "name": "ipython",
    "version": 3
   },
   "file_extension": ".py",
   "mimetype": "text/x-python",
   "name": "python",
   "nbconvert_exporter": "python",
   "pygments_lexer": "ipython3",
   "version": "3.7.3"
  }
 },
 "nbformat": 4,
 "nbformat_minor": 2
}
